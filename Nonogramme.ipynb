{
  "nbformat": 4,
  "nbformat_minor": 0,
  "metadata": {
    "colab": {
      "name": "Nonogramme.ipynb",
      "provenance": [],
      "collapsed_sections": []
    },
    "kernelspec": {
      "name": "python3",
      "display_name": "Python 3"
    }
  },
  "cells": [
    {
      "cell_type": "code",
      "metadata": {
        "id": "W-FidnYYnKN8",
        "colab": {
          "base_uri": "https://localhost:8080/"
        },
        "outputId": "7a41ccd8-3e0f-4712-f7cf-f5b822714614"
      },
      "source": [
        "import numpy as np\n",
        "import matplotlib.pyplot as plt\n",
        "import time\n",
        "!pip install quickdraw\n",
        "import skimage.measure\n",
        "from quickdraw import QuickDrawData\n",
        "from IPython.display import clear_output\n"
      ],
      "execution_count": null,
      "outputs": [
        {
          "output_type": "stream",
          "text": [
            "Collecting quickdraw\n",
            "  Downloading https://files.pythonhosted.org/packages/36/bf/cfbdbf845acab3169c1ed943c44ce8d76828677276e65631cd05f81853a9/quickdraw-0.1.0-py3-none-any.whl\n",
            "Requirement already satisfied: pillow in /usr/local/lib/python3.6/dist-packages (from quickdraw) (7.0.0)\n",
            "Requirement already satisfied: requests in /usr/local/lib/python3.6/dist-packages (from quickdraw) (2.23.0)\n",
            "Requirement already satisfied: urllib3!=1.25.0,!=1.25.1,<1.26,>=1.21.1 in /usr/local/lib/python3.6/dist-packages (from requests->quickdraw) (1.24.3)\n",
            "Requirement already satisfied: chardet<4,>=3.0.2 in /usr/local/lib/python3.6/dist-packages (from requests->quickdraw) (3.0.4)\n",
            "Requirement already satisfied: idna<3,>=2.5 in /usr/local/lib/python3.6/dist-packages (from requests->quickdraw) (2.10)\n",
            "Requirement already satisfied: certifi>=2017.4.17 in /usr/local/lib/python3.6/dist-packages (from requests->quickdraw) (2020.12.5)\n",
            "Installing collected packages: quickdraw\n",
            "Successfully installed quickdraw-0.1.0\n"
          ],
          "name": "stdout"
        }
      ]
    },
    {
      "cell_type": "markdown",
      "metadata": {
        "id": "u4DrX2OZmBmJ"
      },
      "source": [
        "# Sum decomposition"
      ]
    },
    {
      "cell_type": "code",
      "metadata": {
        "id": "_kmGhRrcVIep"
      },
      "source": [
        "def decompo(S, n):\n",
        "  if n == 1:\n",
        "    return [[S]]\n",
        "  else :\n",
        "    L=[] \n",
        "    for i in range(0, S+1):\n",
        "      for d in decompo(i, n-1):\n",
        "        L.append([S-i] + d)\n",
        "    return L\n",
        "\n",
        "def decompo_brute(S, n):\n",
        "  L = []\n",
        "  for i in range((S+1)**n):\n",
        "    d = [(i//((S+1)**j))%(S+1) for j in range(n)]\n",
        "    if sum(d) == S:\n",
        "      L.append(d)\n",
        "  return L"
      ],
      "execution_count": null,
      "outputs": []
    },
    {
      "cell_type": "code",
      "metadata": {
        "colab": {
          "base_uri": "https://localhost:8080/",
          "height": 265
        },
        "id": "AMC8esi1Z0UL",
        "outputId": "da6029c3-0d0d-410e-c999-c55108523bcc"
      },
      "source": [
        "Brute = []\n",
        "Recur = []\n",
        "for S in range(1, 7):\n",
        "  for n in range(1, 7):\n",
        "    t = time.time()\n",
        "    a = decompo(S, n)\n",
        "    Recur.append(time.time()-t)\n",
        "    t = time.time()\n",
        "    b = decompo_brute(S, n)\n",
        "    Brute.append(time.time()-t)\n",
        "plt.plot(Brute, label='Brute')\n",
        "plt.plot(Recur, label='Recur')\n",
        "plt.legend()\n",
        "plt.show()"
      ],
      "execution_count": null,
      "outputs": [
        {
          "output_type": "display_data",
          "data": {
            "image/png": "[encoded data removed]",
            "text/plain": [
              "<Figure size 432x288 with 1 Axes>"
            ]
          },
          "metadata": {
            "tags": [],
            "needs_background": "light"
          }
        }
      ]
    },
    {
      "cell_type": "code",
      "metadata": {
        "id": "PVg9JcdOP08P"
      },
      "source": [
        "def possibles_states(info, size):\n",
        "  if len(info) == 0:\n",
        "    return [[0]*size]\n",
        "  spaces = size - sum(info) - len(info) + 1\n",
        "  nb_cluster = len(info) + 1\n",
        "  states = []\n",
        "  for decomposition in decompo(spaces, nb_cluster):\n",
        "    state = []\n",
        "    for i in range(len(info)):\n",
        "      state += [0]*decomposition[i]\n",
        "      state += [1]*info[i] + [0]\n",
        "    state.pop()\n",
        "    state += [0]*decomposition[-1]\n",
        "    states.append(state)\n",
        "  return states"
      ],
      "execution_count": null,
      "outputs": []
    },
    {
      "cell_type": "markdown",
      "metadata": {
        "id": "HWc8zHo_l91_"
      },
      "source": [
        "# Solver"
      ]
    },
    {
      "cell_type": "code",
      "metadata": {
        "id": "X3FlHOFgOfLM"
      },
      "source": [
        "class NONOGRAM_SOLVER:\n",
        "\n",
        "  def __init__(self, LINES_INFO, COLUMNS_INFO):\n",
        "    self.LINE = True\n",
        "    self.COLUMN = False\n",
        "    self.PIC = True\n",
        "    self.CROSS = False\n",
        "    self.NOT_YET = -1\n",
        "    self.LINES = LINES_INFO\n",
        "    self.COLUMNS = COLUMNS_INFO\n",
        "\n",
        "    self.Check_List = [(self.LINE, i) for i in range(len(self.LINES))]\n",
        "    self.Check_List += [(self.COLUMN, i) for i in range(len(self.COLUMNS))]\n",
        "    self.Grid = np.ones([len(self.LINES), len(self.COLUMNS)]) * self.NOT_YET\n",
        "    self.Possibles = {}\n",
        "    self.show()\n",
        "\n",
        "\n",
        "  def get(self, to_check):\n",
        "    if to_check[0] == self.LINE:\n",
        "      return self.Grid[to_check[1], :]\n",
        "    else:\n",
        "      return self.Grid[:, to_check[1]]\n",
        "  \n",
        "\n",
        "  def push(self, checked, line):\n",
        "    if checked[0] == self.LINE:\n",
        "      self.Grid[checked[1], :] = line\n",
        "    else:\n",
        "      self.Grid[:, checked[1]] = line\n",
        "\n",
        "\n",
        "  def show(self):\n",
        "    for line in self.Grid:\n",
        "      for i in line:\n",
        "        if i == self.PIC:\n",
        "          print('██', end='')\n",
        "        elif i == self.CROSS:\n",
        "          print('X', end=' ')\n",
        "        else:\n",
        "          print('_', end=' ')\n",
        "      print('')\n",
        "    print('')\n",
        "\n",
        "\n",
        "  def add_to_check(self, to_check):\n",
        "    if to_check not in self.Check_List:\n",
        "      self.Check_List.insert(0, to_check)\n",
        "  \n",
        "\n",
        "  def check(self, to_check):\n",
        "    change = False\n",
        "    states = self.Possibles[to_check]\n",
        "    line = self.get(to_check)\n",
        "    for i in range(len(line)):\n",
        "\n",
        "      if line[i] == self.PIC:\n",
        "        new_states = []\n",
        "        for state in states:\n",
        "          if state[i] == 1:\n",
        "            new_states.append(state)\n",
        "          else:\n",
        "            change = True\n",
        "        self.Possibles[to_check] = new_states\n",
        "        states = self.Possibles[to_check]\n",
        "\n",
        "\n",
        "      elif line[i] == self.CROSS:\n",
        "        new_states = []\n",
        "        for state in states:\n",
        "          if state[i] == 0:\n",
        "            new_states.append(state)\n",
        "          else:\n",
        "            change = True\n",
        "        self.Possibles[to_check] = new_states\n",
        "        states = self.Possibles[to_check]\n",
        "\n",
        "      else:\n",
        "        do_pic = True\n",
        "        do_cross = True\n",
        "        for state in states:\n",
        "          if state[i] == 0:\n",
        "            do_pic = False\n",
        "          else:\n",
        "            do_cross = False\n",
        "\n",
        "        if do_pic:\n",
        "          line[i] = self.PIC\n",
        "          self.add_to_check((not to_check[0], i))\n",
        "          change = True\n",
        "        if do_cross:\n",
        "          line[i] = self.CROSS\n",
        "          self.add_to_check((not to_check[0], i))\n",
        "          change = True\n",
        "\n",
        "    self.push(to_check, line)\n",
        "    if change:\n",
        "      self.add_to_check(to_check)\n",
        "    return change\n",
        "  \n",
        "\n",
        "  def solve(self):\n",
        "    for i in range(len(self.LINES)):\n",
        "      self.Possibles[(self.LINE, i)] = possibles_states(self.LINES[i], len(self.COLUMNS))\n",
        "    for i in range(len(self.COLUMNS)):\n",
        "      self.Possibles[(self.COLUMN, i)] = possibles_states(self.COLUMNS[i], len(self.LINES))\n",
        "    while self.NOT_YET in self.Grid:\n",
        "      if self.check(self.Check_List.pop()):\n",
        "        clear_output(wait=True)\n",
        "        self.show()\n",
        "        time.sleep(0.1)\n",
        "      if len(self.Check_List) == 0:\n",
        "        print('I am sorry but this is the best I can do')\n",
        "        break "
      ],
      "execution_count": null,
      "outputs": []
    },
    {
      "cell_type": "code",
      "metadata": {
        "id": "3HRVWHsDn8IK",
        "colab": {
          "base_uri": "https://localhost:8080/"
        },
        "outputId": "cec489c2-2912-4a4b-f6ba-5e2b2cb46636"
      },
      "source": [
        "LINES_TEST = [[1, 1], \n",
        "              [1, 1], \n",
        "              [3], \n",
        "              [4], \n",
        "              [4], \n",
        "              [2, 6], \n",
        "              [2, 2, 2], \n",
        "              [4, 2, 2], \n",
        "              [3, 1, 2, 1], \n",
        "              [1, 2, 2, 1, 1],\n",
        "              [1, 1, 2, 1], \n",
        "              [2, 4, 1], \n",
        "              [2, 1, 2], \n",
        "              [7, 4]]\n",
        "\n",
        "COLUMNS_TEST = [[1, 2], \n",
        "                [4], \n",
        "                [10], \n",
        "                [8, 2], \n",
        "                [1, 3, 2], \n",
        "                [2, 2, 1], \n",
        "                [2, 1, 1], \n",
        "                [1, 2, 1, 1], \n",
        "                [1, 1, 1, 1, 1],  \n",
        "                [1, 2, 2, 1], \n",
        "                [1, 3, 1], \n",
        "                [2, 1], \n",
        "                [2, 1, 1], \n",
        "                [4, 2], \n",
        "                [2], \n",
        "                [1]]\n",
        "\n",
        "NONOGRAM_SOLVER(LINES_TEST, COLUMNS_TEST).solve()"
      ],
      "execution_count": null,
      "outputs": [
        {
          "output_type": "stream",
          "text": [
            "██X X X ██X X X X X X X X X X X \n",
            "X ██X ██X X X X X X X X X X X X \n",
            "X ██████X X X X X X X X X X X X \n",
            "████████X X X X X X X X X X X X \n",
            "████████X X X X X X X X X X X X \n",
            "X X ████X X ████████████X X X X \n",
            "X X ████X ████X X X X ████X X X \n",
            "X X ████████X X ████X X ████X X \n",
            "X X ██████X X ██X ████X X ██X X \n",
            "X X ██X ████X ████X ██X X ██X X \n",
            "X X ██X X ██X X X ████X X ██X X \n",
            "X X ████X X ████████X X ██X X X \n",
            "X X X ████X X X X X X ██X ████X \n",
            "X X X X ██████████████X ████████\n",
            "\n"
          ],
          "name": "stdout"
        }
      ]
    },
    {
      "cell_type": "markdown",
      "metadata": {
        "id": "3r7HEFf4mHd7"
      },
      "source": [
        "# Random image test"
      ]
    },
    {
      "cell_type": "code",
      "metadata": {
        "id": "jNBKkBSaY4FJ"
      },
      "source": [
        "def info(Image):\n",
        "  Matrice = 1 - Image\n",
        "  line_info = [[]]*Matrice.shape[0]\n",
        "  for i in range(Matrice.shape[0]):\n",
        "    last = 0\n",
        "    for j in range(Matrice.shape[1]):\n",
        "      if last == 0:\n",
        "        if Matrice[i, j] == 1:\n",
        "          line_info[i] = line_info[i] + [1]\n",
        "          last = 1\n",
        "      else:\n",
        "        if Matrice[i, j] == 1:\n",
        "          line_info[i][-1] += 1\n",
        "        else:\n",
        "          last = 0\n",
        "  column_info = [[]]*Matrice.shape[1]\n",
        "  for j in range(Matrice.shape[1]):\n",
        "    last = 0\n",
        "    for i in range(Matrice.shape[0]):\n",
        "      if last == 0:\n",
        "        if Matrice[i, j] == 1:\n",
        "          column_info[j] = column_info[j] + [1]\n",
        "          last = 1\n",
        "      else:\n",
        "        if Matrice[i, j] == 1:\n",
        "          column_info[j][-1] += 1\n",
        "        else:\n",
        "          last = 0\n",
        "  return line_info, column_info"
      ],
      "execution_count": null,
      "outputs": []
    },
    {
      "cell_type": "code",
      "metadata": {
        "colab": {
          "base_uri": "https://localhost:8080/",
          "height": 349
        },
        "id": "Eh6z43cI2xXP",
        "outputId": "1e1abfb4-c910-4afa-c3f6-2eedcf1e72d3"
      },
      "source": [
        "im = np.array(QuickDrawData().get_drawing(np.random.choice(QuickDrawData().drawing_names)).image)\n",
        "im = skimage.measure.block_reduce(im, (12, 12, 3))[:-1,:-1, 0]\n",
        "im = np.where(((im-im.min())/(im.max()-im.min()))>0.9, 1, 0)\n",
        "plt.imshow(im, cmap='gray')"
      ],
      "execution_count": null,
      "outputs": [
        {
          "output_type": "stream",
          "text": [
            "downloading yoga from https://storage.googleapis.com/quickdraw_dataset/full/binary/yoga.bin\n",
            "download complete\n",
            "loading yoga drawings\n",
            "load complete\n"
          ],
          "name": "stdout"
        },
        {
          "output_type": "execute_result",
          "data": {
            "text/plain": [
              "<matplotlib.image.AxesImage at 0x7f9397c79e10>"
            ]
          },
          "metadata": {
            "tags": []
          },
          "execution_count": 8
        },
        {
          "output_type": "display_data",
          "data": {
            "image/png": "[encoded data removed]",
            "text/plain": [
              "<Figure size 432x288 with 1 Axes>"
            ]
          },
          "metadata": {
            "tags": [],
            "needs_background": "light"
          }
        }
      ]
    },
    {
      "cell_type": "code",
      "metadata": {
        "colab": {
          "base_uri": "https://localhost:8080/"
        },
        "id": "rSPyWPQT9uV1",
        "outputId": "d5569d04-5857-4c84-bcf7-472e64eccdc1"
      },
      "source": [
        "NONOGRAM_SOLVER(info(im)[0], info(im)[1]).solve()"
      ],
      "execution_count": null,
      "outputs": [
        {
          "output_type": "stream",
          "text": [
            "_ _ _ _ _ _ _ _ _ _ _ _ _ _ _ _ _ _ X X X \n",
            "_ _ _ _ _ _ _ _ _ _ _ _ _ _ _ _ _ _ X X X \n",
            "_ _ _ _ _ _ _ _ _ _ _ _ _ _ _ _ _ _ X X X \n",
            "_ _ _ _ _ _ _ _ _ _ _ _ _ _ _ _ _ _ X X X \n",
            "_ _ _ _ _ _ _ _ _ _ _ _ _ _ _ _ _ _ X X X \n",
            "_ _ _ _ _ _ _ _ _ _ _ _ _ _ _ _ _ _ X X X \n",
            "_ _ _ _ _ _ _ _ _ _ _ _ _ _ _ _ _ _ X X X \n",
            "_ _ _ _ _ _ _ _ _ _ _ _ _ _ _ _ _ _ X X X \n",
            "_ _ _ _ _ _ _ X _ _ _ _ _ _ _ _ _ _ X X X \n",
            "_ _ _ _ _ X _ _ _ _ _ _ X X _ _ _ _ X X X \n",
            "_ _ ████████████████████████████_ _ X X X \n",
            "X X X X X X X X ██X X X X X X X X X X X X \n",
            "X X X X X X X X ██X X X X X X X X X X X X \n",
            "X _ _ _ _ _ _ _ _ _ _ _ _ _ _ _ _ _ X X X \n",
            "X _ _ _ _ _ _ _ _ _ _ _ _ _ _ _ _ _ X X X \n",
            "X _ _ _ _ _ _ _ _ _ _ _ _ _ _ _ _ _ X X X \n",
            "X X X X X X _ _ _ ██_ _ _ X X X X X X X X \n",
            "X _ _ _ _ _ _ _ _ ██_ _ _ _ _ _ _ _ X X X \n",
            "X _ _ _ _ _ _ _ _ _ _ _ _ _ _ _ _ _ X X X \n",
            "X _ _ _ _ _ _ _ _ _ _ _ _ _ _ _ _ _ X X X \n",
            "X _ _ _ _ _ _ _ X _ _ _ _ _ _ _ _ _ X X X \n",
            "\n",
            "I am sorry but this is the best I can do\n"
          ],
          "name": "stdout"
        }
      ]
    },
    {
      "cell_type": "markdown",
      "metadata": {
        "id": "EBlaji0Eyp7C"
      },
      "source": [
        "# Tout pourri le dataset"
      ]
    },
    {
      "cell_type": "code",
      "metadata": {
        "colab": {
          "base_uri": "https://localhost:8080/"
        },
        "id": "T4p1sl-DfTfK",
        "outputId": "c6b99cbb-5b2d-46b3-9375-6727e1751e94"
      },
      "source": [
        "import tarfile\n",
        "import os\n",
        "\n",
        "\n",
        "!rm -rf /content/cifar-10-python.tar.gz\n",
        "!wget 'http://www.cs.toronto.edu/~kriz/cifar-10-python.tar.gz'\n",
        "\n",
        "!rm -rf /content/cifar-10-batches-py\n",
        "tar = tarfile.open('/content/cifar-10-python.tar.gz', \"r:gz\")\n",
        "tar.extractall()\n",
        "tar.close()\n",
        "\n",
        "def unpickle(file):\n",
        "    import pickle\n",
        "    with open(file, 'rb') as fo:\n",
        "        dic = pickle.load(fo, encoding='bytes')\n",
        "    return dic\n",
        "\n",
        "data = unpickle('/content/cifar-10-batches-py/data_batch_1')[b'data']"
      ],
      "execution_count": null,
      "outputs": [
        {
          "output_type": "stream",
          "text": [
            "--2020-12-21 15:15:29--  http://www.cs.toronto.edu/~kriz/cifar-10-python.tar.gz\n",
            "Resolving www.cs.toronto.edu (www.cs.toronto.edu)... 128.100.3.30\n",
            "Connecting to www.cs.toronto.edu (www.cs.toronto.edu)|128.100.3.30|:80... connected.\n",
            "HTTP request sent, awaiting response... 200 OK\n",
            "Length: 170498071 (163M) [application/x-gzip]\n",
            "Saving to: ‘cifar-10-python.tar.gz’\n",
            "\n",
            "cifar-10-python.tar 100%[===================>] 162.60M  72.4MB/s    in 2.2s    \n",
            "\n",
            "2020-12-21 15:15:31 (72.4 MB/s) - ‘cifar-10-python.tar.gz’ saved [170498071/170498071]\n",
            "\n"
          ],
          "name": "stdout"
        }
      ]
    },
    {
      "cell_type": "code",
      "metadata": {
        "colab": {
          "base_uri": "https://localhost:8080/",
          "height": 283
        },
        "id": "mxqHsmjSjavB",
        "outputId": "90966de1-919e-4c2b-8da9-ebb75ff54835"
      },
      "source": [
        "import matplotlib.pyplot as plt\n",
        "import numpy as np\n",
        "test_im = np.transpose(np.reshape(data[87], (3, 32, 32)), (1, 2, 0))\n",
        "plt.imshow(test_im)"
      ],
      "execution_count": null,
      "outputs": [
        {
          "output_type": "execute_result",
          "data": {
            "text/plain": [
              "<matplotlib.image.AxesImage at 0x7f12d31c9278>"
            ]
          },
          "metadata": {
            "tags": []
          },
          "execution_count": 32
        },
        {
          "output_type": "display_data",
          "data": {
            "image/png": "[encoded data removed]",
            "text/plain": [
              "<Figure size 432x288 with 1 Axes>"
            ]
          },
          "metadata": {
            "tags": [],
            "needs_background": "light"
          }
        }
      ]
    },
    {
      "cell_type": "code",
      "metadata": {
        "colab": {
          "base_uri": "https://localhost:8080/",
          "height": 283
        },
        "id": "MzdBbtzmuTBS",
        "outputId": "c5c0078d-ca1f-4172-99d7-8d41fb14f194"
      },
      "source": [
        "grey = np.mean(test_im, axis=2)\n",
        "print(np.min(grey), np.max(grey))\n",
        "plt.imshow(grey, cmap='gray')\n",
        "plt.imshow(np.where(grey>110, 1, 0), cmap='gray')\n",
        "im = np.where(grey>110, 1, 0)"
      ],
      "execution_count": null,
      "outputs": [
        {
          "output_type": "stream",
          "text": [
            "21.666666666666668 218.33333333333334\n"
          ],
          "name": "stdout"
        },
        {
          "output_type": "display_data",
          "data": {
            "image/png": "[encoded data removed]",
            "text/plain": [
              "<Figure size 432x288 with 1 Axes>"
            ]
          },
          "metadata": {
            "tags": [],
            "needs_background": "light"
          }
        }
      ]
    },
    {
      "cell_type": "code",
      "metadata": {
        "colab": {
          "base_uri": "https://localhost:8080/",
          "height": 283
        },
        "id": "PrlA364RrJGI",
        "outputId": "6e215384-ddfb-432d-dc17-924697fb82f6"
      },
      "source": [
        "from scipy.signal import convolve2d\n",
        "grey = np.mean(test_im, axis=2)\n",
        "\n",
        "Gx = np.array([[-1, 0, 1], \n",
        "                [-2, 0, 2], \n",
        "                [-1, 0, 1]])\n",
        "\n",
        "Gy = np.array([[-1,-2,-1], \n",
        "                [ 0, 0, 0], \n",
        "                [ 1, 2, 1]])\n",
        "\n",
        "gx = convolve2d(grey, Gx)\n",
        "gy = convolve2d(grey, Gy)\n",
        "\n",
        "norm = np.sqrt(np.power(gx, 2) + np.power(gy, 2))\n",
        "\n",
        "\n",
        "plt.imshow(np.where(norm[2:-2, 2:-2]>125, 1, 0))"
      ],
      "execution_count": null,
      "outputs": [
        {
          "output_type": "execute_result",
          "data": {
            "text/plain": [
              "<matplotlib.image.AxesImage at 0x7f6ddd82e748>"
            ]
          },
          "metadata": {
            "tags": []
          },
          "execution_count": 130
        },
        {
          "output_type": "display_data",
          "data": {
            "image/png": "[encoded data removed]",
            "text/plain": [
              "<Figure size 432x288 with 1 Axes>"
            ]
          },
          "metadata": {
            "tags": [],
            "needs_background": "light"
          }
        }
      ]
    }
  ]
}